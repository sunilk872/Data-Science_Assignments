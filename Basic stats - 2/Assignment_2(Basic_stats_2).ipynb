{
  "nbformat": 4,
  "nbformat_minor": 0,
  "metadata": {
    "colab": {
      "provenance": []
    },
    "kernelspec": {
      "name": "python3",
      "display_name": "Python 3"
    },
    "language_info": {
      "name": "python"
    }
  },
  "cells": [
    {
      "cell_type": "markdown",
      "source": [
        " **Building 99% Confidence Interval Using Sample Standard Deviation\n",
        "Calculate Sample Statistics:**\n",
        "*   Sample Mean: Average of the observed values.\n",
        "\n",
        "\n",
        "\n",
        "* Sample Standard Deviation: Measure of how spread out the values are from the mean.\n",
        "Determine the t-Critical Value:\n",
        "\n",
        "* t-distribution used when the sample size is small and you estimate the standard deviation from the sample.\n",
        "\n",
        "* Find t-Critical Value: Use a t-table or stats.t.ppf function to get the critical value for a 99% confidence level and degrees of freedom (n-1).\n",
        "\n",
        "Calculate Margin of Error:\n",
        "\n",
        "Formula: Margin of Error = t-Critical Value × (Sample Standard Deviation / √n)\n",
        "\n",
        "Construct Confidence Interval:\n",
        "\n",
        "Lower Bound: Sample Mean - Margin of Error\n",
        "\n",
        "Upper Bound: Sample Mean + Margin of Error\n",
        "\n",
        "\n"
      ],
      "metadata": {
        "id": "mQpYFDsh-QBs"
      }
    },
    {
      "cell_type": "code",
      "execution_count": null,
      "metadata": {
        "colab": {
          "base_uri": "https://localhost:8080/"
        },
        "id": "LOssWgkP-5DO",
        "outputId": "e3969061-f1e2-4839-b4ab-3ef57c75631f"
      },
      "outputs": [
        {
          "output_type": "stream",
          "name": "stdout",
          "text": [
            "Sample mean: 1.2386666666666666\n",
            "Sample standard deviation: 0.19316412956959936\n",
            "Margin of error: 0.14846932822817593\n",
            "t_critical: 2.976842734370834\n",
            "Confidence interval (t-distribution): (1.0901973384384906, 1.3871359948948425)\n",
            "Confidence level: 0.99\n"
          ]
        }
      ],
      "source": [
        "import numpy as np\n",
        "import scipy.stats as stats\n",
        "\n",
        "# Data for the durability of print-heads (in millions of characters)\n",
        "durability =  [1.13, 1.55, 1.43, 0.92, 1.25, 1.36, 1.32, 0.85, 1.07, 1.48, 1.20, 1.33, 1.18, 1.22, 1.29]\n",
        "\n",
        "# Sample size\n",
        "n = len(durability)\n",
        "\n",
        "# Sample mean\n",
        "mean_durability = np.mean(durability)\n",
        "\n",
        "# Sample standard deviation\n",
        "sample_std = np.std(durability, ddof=1)\n",
        "\n",
        "#calculating the standard deviation of a sample when ddof (degree of freedom) =1\n",
        "#ddof = 0 for population standard deviation\n",
        "\n",
        "# 99% confidence interval using t-distribution (since sample standard deviation is used)\n",
        "confidence_level = 0.99\n",
        "alpha = 1 - confidence_level #0.01\n",
        "t_critical = stats.t.ppf((1 - alpha)+alpha/2, df=n-1) #2.976842734370834(or we can use 1-alpha/2)\n",
        "\n",
        "\n",
        "margin_of_error = t_critical * sample_std / np.sqrt(n)\n",
        "\n",
        "#confidence interval\n",
        "ci=(mean_durability - margin_of_error, mean_durability + margin_of_error)\n",
        "\n",
        "# Print results\n",
        "print(\"Sample mean:\", mean_durability)\n",
        "print(\"Sample standard deviation:\", sample_std)\n",
        "print(\"Margin of error:\", margin_of_error)\n",
        "print(\"t_critical:\",t_critical)\n",
        "print(\"Confidence interval (t-distribution):\", ci)\n",
        "print(\"Confidence level:\", confidence_level)"
      ]
    },
    {
      "cell_type": "markdown",
      "source": [
        "\n",
        "**Building 99% Confidence Interval Using Known Population Standard Deviation\n",
        "Known Population Standard Deviation:**\n",
        "ww have given with the standard deviation of the entire population, so you don’t need to estimate it from the sample.\n",
        "\n",
        "*   Determine the z-Critical Value: z-distribution is used when the sample size is large or the population standard deviation is known...\n",
        "\n",
        "Calculate Margin of Error:\n",
        "\n",
        "Formula:\n",
        "Margin of Error = z-Critical Value × (Population Standard Deviation / √n)\n",
        "\n",
        "Construct Confidence Interval:\n",
        "\n",
        "Lower Bound: Sample Mean - Margin of Error\n",
        "\n",
        "Upper Bound: Sample Mean + Margin of Error"
      ],
      "metadata": {
        "id": "rHk7ZFK-_Bem"
      }
    },
    {
      "cell_type": "code",
      "source": [
        "# Known population standard deviation\n",
        "population_std = 0.2\n",
        "\n",
        "# 99% confidence interval using z-distribution (since population standard deviation is known)\n",
        "z_critical = stats.norm.ppf((1 - alpha)+alpha/2) #2.5758293035489004\n",
        "\n",
        "# Margin of error\n",
        "margin_of_error_population_std = z_critical * (population_std / np.sqrt(n))\n",
        "\n",
        "# Confidence interval\n",
        "ci_population_std = (mean_durability - margin_of_error_population_std, mean_durability + margin_of_error_population_std)\n",
        "\n",
        "# Print results\n",
        "print(\"z_critical:\",z_critical)\n",
        "print(\"Margin of error (Population std known):\", margin_of_error_population_std)\n",
        "print(\"Confidence interval (Population std known):\", ci_population_std)\n",
        "\n"
      ],
      "metadata": {
        "colab": {
          "base_uri": "https://localhost:8080/"
        },
        "id": "45FX162Kj2NT",
        "outputId": "8b57493a-958f-4145-d8ca-d80027b54892"
      },
      "execution_count": null,
      "outputs": [
        {
          "output_type": "stream",
          "name": "stdout",
          "text": [
            "z_critical: 2.5758293035489004\n",
            "Margin of error (Population std known): 0.13301525327090588\n",
            "Confidence interval (Population std known): (1.1056514133957607, 1.3716819199375725)\n"
          ]
        }
      ]
    }
  ]
}