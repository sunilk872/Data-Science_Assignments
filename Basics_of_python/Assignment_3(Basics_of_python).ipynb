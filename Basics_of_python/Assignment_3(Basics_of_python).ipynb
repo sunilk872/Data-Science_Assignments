{
  "nbformat": 4,
  "nbformat_minor": 0,
  "metadata": {
    "colab": {
      "provenance": []
    },
    "kernelspec": {
      "name": "python3",
      "display_name": "Python 3"
    },
    "language_info": {
      "name": "python"
    }
  },
  "cells": [
    {
      "cell_type": "markdown",
      "source": [
        "1: checks whether a given number is prime or not"
      ],
      "metadata": {
        "id": "iQdr0VDY2agf"
      }
    },
    {
      "cell_type": "code",
      "execution_count": null,
      "metadata": {
        "colab": {
          "base_uri": "https://localhost:8080/"
        },
        "id": "CSh_Z6022H7T",
        "outputId": "c95057f7-e82b-4232-a1f4-c916cf51721b"
      },
      "outputs": [
        {
          "output_type": "stream",
          "name": "stdout",
          "text": [
            "Enter a Number: 17\n",
            "17 is a prime number\n"
          ]
        }
      ],
      "source": [
        "n=int(input(\"Enter a Number: \"))\n",
        "\n",
        "for i in range(2,n):\n",
        "  if n%i==0:\n",
        "    print(f\"{n} is not a prime number\")\n",
        "    break\n",
        "else:\n",
        "  print(f\"{n} is a prime number\")\n"
      ]
    },
    {
      "cell_type": "markdown",
      "source": [
        "2: Product of Random Numbers"
      ],
      "metadata": {
        "id": "fB8OGEef30C3"
      }
    },
    {
      "cell_type": "code",
      "source": [
        "a=int(input(\"Enter the First number: \"))\n",
        "b=int(input(\"Enter the second number: \"))\n",
        "correct_product = a * b\n",
        "\n",
        "user_answer = int(input(\"User_answer :\"))\n",
        "\n",
        "if user_answer == correct_product:\n",
        "    print(\"Correct!\")\n",
        "else:\n",
        "    print(\"Incorrect. The correct answer is:\", correct_product)\n"
      ],
      "metadata": {
        "colab": {
          "base_uri": "https://localhost:8080/"
        },
        "id": "39ESQ-jt2LA-",
        "outputId": "7e9c8094-1c19-4e43-c653-d03b0e4f546a"
      },
      "execution_count": null,
      "outputs": [
        {
          "output_type": "stream",
          "name": "stdout",
          "text": [
            "Enter the First number: 5\n",
            "Enter the second number: 6\n",
            "User_answer :36\n",
            "Incorrect. The correct answer is: 30\n"
          ]
        }
      ]
    },
    {
      "cell_type": "markdown",
      "source": [
        "3: Squares of Even/Odd Numbers ranging 100 to 200"
      ],
      "metadata": {
        "id": "4iu3crJm4nc_"
      }
    },
    {
      "cell_type": "code",
      "source": [
        "#square of even no\n",
        "for i in range(100,200+1):\n",
        "  if i%2==0:\n",
        "    print(i**2,end=\" \")"
      ],
      "metadata": {
        "colab": {
          "base_uri": "https://localhost:8080/"
        },
        "id": "Kab43Fho4p4q",
        "outputId": "15399a5e-2a59-409c-ac08-7c5be0cc5729"
      },
      "execution_count": null,
      "outputs": [
        {
          "output_type": "stream",
          "name": "stdout",
          "text": [
            "10000 10404 10816 11236 11664 12100 12544 12996 13456 13924 14400 14884 15376 15876 16384 16900 17424 17956 18496 19044 19600 20164 20736 21316 21904 22500 23104 23716 24336 24964 25600 26244 26896 27556 28224 28900 29584 30276 30976 31684 32400 33124 33856 34596 35344 36100 36864 37636 38416 39204 40000 10201 10609 11025 11449 11881 12321 12769 13225 13689 14161 14641 15129 15625 16129 16641 17161 17689 18225 18769 19321 19881 20449 21025 21609 22201 22801 23409 24025 24649 25281 25921 26569 27225 27889 28561 29241 29929 30625 31329 32041 32761 33489 34225 34969 35721 36481 37249 38025 38809 39601 "
          ]
        }
      ]
    },
    {
      "cell_type": "code",
      "source": [
        "#square of odd no\n",
        "for i in range(100,200+1):\n",
        "  if i%2!=0:\n",
        "    print(i**2,end=\" \")"
      ],
      "metadata": {
        "colab": {
          "base_uri": "https://localhost:8080/"
        },
        "id": "R_z78gwZ6K0S",
        "outputId": "16d2c020-3205-4c74-b8f8-ff696721ebad"
      },
      "execution_count": null,
      "outputs": [
        {
          "output_type": "stream",
          "name": "stdout",
          "text": [
            "10201 10609 11025 11449 11881 12321 12769 13225 13689 14161 14641 15129 15625 16129 16641 17161 17689 18225 18769 19321 19881 20449 21025 21609 22201 22801 23409 24025 24649 25281 25921 26569 27225 27889 28561 29241 29929 30625 31329 32041 32761 33489 34225 34969 35721 36481 37249 38025 38809 39601 "
          ]
        }
      ]
    },
    {
      "cell_type": "markdown",
      "source": [
        "4: program to count the number of words in a given text"
      ],
      "metadata": {
        "id": "WRkh_b6a6T6q"
      }
    },
    {
      "cell_type": "code",
      "source": [
        "input_text = input(\"Enter a text: \")\n",
        "\n",
        "# Split the text into words\n",
        "words = input_text.split()\n",
        "\n",
        "word_count = {}\n",
        "\n",
        "for i in words:\n",
        "    if i in word_count:\n",
        "        word_count[i] += 1\n",
        "    else:\n",
        "        word_count[i] = 1\n",
        "\n",
        "for i, count in word_count.items():\n",
        "    print(f\"'{i}': {count}\")\n"
      ],
      "metadata": {
        "colab": {
          "base_uri": "https://localhost:8080/"
        },
        "id": "fMKlajHn6SFY",
        "outputId": "9458739b-5eb8-4989-a4f7-08bc218f3a0b"
      },
      "execution_count": null,
      "outputs": [
        {
          "output_type": "stream",
          "name": "stdout",
          "text": [
            "Enter a text: This is a sample text. This text will be used to demonstrate the word counter\n",
            "'This': 2\n",
            "'is': 1\n",
            "'a': 1\n",
            "'sample': 1\n",
            "'text.': 1\n",
            "'text': 1\n",
            "'will': 1\n",
            "'be': 1\n",
            "'used': 1\n",
            "'to': 1\n",
            "'demonstrate': 1\n",
            "'the': 1\n",
            "'word': 1\n",
            "'counter': 1\n"
          ]
        }
      ]
    },
    {
      "cell_type": "markdown",
      "source": [
        "5: Check for Palindrome"
      ],
      "metadata": {
        "id": "RRUmh4oc6TLZ"
      }
    },
    {
      "cell_type": "code",
      "source": [
        "a=input(\"Enter a string : \")\n",
        "l=len(a)\n",
        "b=\"\"\n",
        "for i in range(l):\n",
        "  b=b+a[l-i-1]\n",
        "print(a==b)\n"
      ],
      "metadata": {
        "colab": {
          "base_uri": "https://localhost:8080/"
        },
        "id": "DylbQLdK9fp4",
        "outputId": "803c7ac4-cea6-46a8-c84d-9fa5cc78dc87"
      },
      "execution_count": null,
      "outputs": [
        {
          "output_type": "stream",
          "name": "stdout",
          "text": [
            "Enter a string : racecar\n",
            "True\n"
          ]
        }
      ]
    }
  ]
}