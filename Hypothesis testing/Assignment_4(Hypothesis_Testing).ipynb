{
  "nbformat": 4,
  "nbformat_minor": 0,
  "metadata": {
    "colab": {
      "provenance": []
    },
    "kernelspec": {
      "name": "python3",
      "display_name": "Python 3"
    },
    "language_info": {
      "name": "python"
    }
  },
  "cells": [
    {
      "cell_type": "markdown",
      "source": [
        "# **HYPOTHESIS TESTING**\n"
      ],
      "metadata": {
        "id": "XZn9nOI2ACs2"
      }
    },
    {
      "cell_type": "markdown",
      "source": [
        " **1. State the Hypotheses statement:**\n",
        "\n",
        "**Null Hypothesis Ho**: The mean weekly operating cost is W = $1000 + $5X\n",
        "\n",
        "**Alternative Hypothesis Ha**: The mean weekly operating cost is higher than the theoretical model,  W > 1000 +5X\n",
        "(right Tailed Test)"
      ],
      "metadata": {
        "id": "hnvuM1n1BNkX"
      }
    },
    {
      "cell_type": "code",
      "execution_count": null,
      "metadata": {
        "id": "xRCEMeq0_76P"
      },
      "outputs": [],
      "source": [
        "import numpy as np\n",
        "import scipy.stats as stats\n"
      ]
    },
    {
      "cell_type": "markdown",
      "source": [
        "**2. Calculate the Test Statistic:**\n",
        "\n",
        "Given:\n",
        "- Sample mean weekly cost  = 3050\n",
        "- Theoretical mean weekly cost (mu) = ( 1000 + 5 times * 600 = 4000 )\n",
        "- Standard deviation (sigma ) = ( 5 times * 25 = 125 )\n",
        "- Sample size ( n ) = 25\n",
        "\n",
        "The formula for the test statistic is:\n",
        "\n",
        "t = (x̄ - μ) / (s / √n)\n"
      ],
      "metadata": {
        "id": "cFaSkmIOEved"
      }
    },
    {
      "cell_type": "code",
      "source": [
        "z_cal=(3050-4000)/(125/np.sqrt(25))\n",
        "z_cal"
      ],
      "metadata": {
        "colab": {
          "base_uri": "https://localhost:8080/"
        },
        "id": "RnWDd2yQEQtr",
        "outputId": "79818391-4b96-44c4-9ca8-4e30e45db24b"
      },
      "execution_count": null,
      "outputs": [
        {
          "output_type": "execute_result",
          "data": {
            "text/plain": [
              "-38.0"
            ]
          },
          "metadata": {},
          "execution_count": 11
        }
      ]
    },
    {
      "cell_type": "markdown",
      "source": [
        "**3. Determine the Critical Value:**\n",
        "\n",
        "alpha level of 5% (α = 0.05)\n",
        ",determine the critical value from the standard normal (Z) distribution table.\n"
      ],
      "metadata": {
        "id": "ObL9K4kfE2x7"
      }
    },
    {
      "cell_type": "code",
      "source": [
        "z_tab = stats.norm.ppf(1-0.05)\n",
        "z_tab"
      ],
      "metadata": {
        "colab": {
          "base_uri": "https://localhost:8080/"
        },
        "id": "_aN5R4IOE0r7",
        "outputId": "34b61d25-b900-4823-9416-3da09d7053c0"
      },
      "execution_count": null,
      "outputs": [
        {
          "output_type": "execute_result",
          "data": {
            "text/plain": [
              "1.6448536269514722"
            ]
          },
          "metadata": {},
          "execution_count": 12
        }
      ]
    },
    {
      "cell_type": "code",
      "source": [
        "if z_cal < z_tab:\n",
        "    print(\"Accept H0\")\n",
        "    print(\"The mean weekly operating cost is W = 1000+ 5X\")\n",
        "else:\n",
        "  print(\"Accept H1\")\n",
        "  print(\"The mean weekly operating cost is higher than the theoretical model, W > 1000 +5X \")"
      ],
      "metadata": {
        "colab": {
          "base_uri": "https://localhost:8080/"
        },
        "id": "2VQhJBatmvE-",
        "outputId": "88486f5b-6771-4881-8db4-389810c56a91"
      },
      "execution_count": null,
      "outputs": [
        {
          "output_type": "stream",
          "name": "stdout",
          "text": [
            "Accept H0\n",
            "The mean weekly operating cost is W = 1000+ 5X\n"
          ]
        }
      ]
    },
    {
      "cell_type": "markdown",
      "source": [
        "**4. Decision:**\n",
        "\n",
        "If z_cal > z_tab (t>1.645), reject the null hypothesis.\n",
        "\n",
        "If z_cal < z_tab (t≤1.645), accept the null hypothesis."
      ],
      "metadata": {
        "id": "Z0qdCv30JQWV"
      }
    },
    {
      "cell_type": "markdown",
      "source": [
        "**5. Conclusion:**\n",
        "Given that the calculated test statistic is much smaller than the critical value, there is insufficient evidence to support the claim that the weekly operating costs are higher than the model suggests. Therefore, the null hypothesis 𝐻o is Accepted.\n",
        "\n",
        "Accept Ho."
      ],
      "metadata": {
        "id": "Ro4zx-VbKDgX"
      }
    },
    {
      "cell_type": "markdown",
      "source": [
        "# **CHI-SQUARE TEST**\n",
        "\n",
        "\n",
        "\n"
      ],
      "metadata": {
        "id": "czAOLd71LCkX"
      }
    },
    {
      "cell_type": "markdown",
      "source": [
        "**1. State the Hypotheses:**\n",
        "\n",
        "\n",
        "*   Null Hypothesis (𝐻0): There is no significant association between the type of smart home device purchased and customer satisfaction level.\n",
        "In other words, the satisfaction levels are independent of the device type.\n",
        "* Alternative Hypothesis (𝐻1​): There is a significant association between the type of smart home device purchased and customer satisfaction level.\n",
        "In other words, the satisfaction levels are not independent of the device type.\n",
        "\n",
        "\n"
      ],
      "metadata": {
        "id": "wMxjK8qcLnCh"
      }
    },
    {
      "cell_type": "code",
      "source": [
        "import numpy as np\n",
        "import scipy.stats as stats"
      ],
      "metadata": {
        "id": "5frUtaq0LlR5"
      },
      "execution_count": null,
      "outputs": []
    },
    {
      "cell_type": "markdown",
      "source": [
        "**2. Compute the Chi-Square Statistic:**\n",
        "\n",
        "first ,compute the expected frequencies of all cells\n",
        "\n",
        "Expected Frequencies (E): (ExpectedFrequency=(RowTotal*ColumnTotal)/N\\)\n",
        "EX: 120 * 240 / 600  = 48\n",
        "\n",
        "Expected Frequencies means a type of probability count that can be calculated using probability theory\n",
        "\n",
        "Repeat this for all cells.\n",
        "\n",
        "After computing all expected frequencies, use the Chi-Square formula to find the test statistic:\n",
        "χ² = Σ [(O - E)² / E]\n"
      ],
      "metadata": {
        "id": "ywowoOrwh1S1"
      }
    },
    {
      "cell_type": "code",
      "source": [
        "row1 = np.array([50,70])\n",
        "row2 = np.array([80,100])\n",
        "row3 = np.array([60,90])\n",
        "row4 = np.array([30,50])\n",
        "row5 = np.array([20,50])\n",
        "data = np.array([row1, row2, row3, row4, row5])\n",
        "data"
      ],
      "metadata": {
        "colab": {
          "base_uri": "https://localhost:8080/"
        },
        "id": "EDWMx3AUdV9K",
        "outputId": "19f092bf-aaff-4142-e98e-f9d6a42d1941"
      },
      "execution_count": null,
      "outputs": [
        {
          "output_type": "execute_result",
          "data": {
            "text/plain": [
              "array([[ 50,  70],\n",
              "       [ 80, 100],\n",
              "       [ 60,  90],\n",
              "       [ 30,  50],\n",
              "       [ 20,  50]])"
            ]
          },
          "metadata": {},
          "execution_count": 16
        }
      ]
    },
    {
      "cell_type": "code",
      "source": [
        "total=np.sum(data)\n",
        "total"
      ],
      "metadata": {
        "colab": {
          "base_uri": "https://localhost:8080/"
        },
        "id": "lTQLQD05ebyH",
        "outputId": "d3aa29ed-39fd-4afe-fa47-bd5a83f0bc00"
      },
      "execution_count": null,
      "outputs": [
        {
          "output_type": "execute_result",
          "data": {
            "text/plain": [
              "600"
            ]
          },
          "metadata": {},
          "execution_count": 18
        }
      ]
    },
    {
      "cell_type": "code",
      "source": [
        "sum_r1=np.sum(row1)\n",
        "sum_r2=np.sum(row2)\n",
        "sum_r3=np.sum(row3)\n",
        "sum_r4=np.sum(row4)\n",
        "sum_r5=np.sum(row5)\n",
        "sum_row=np.array([sum_r1,sum_r2,sum_r3,sum_r4,sum_r5])\n",
        "print(sum_row)"
      ],
      "metadata": {
        "colab": {
          "base_uri": "https://localhost:8080/"
        },
        "id": "exTw-o_zegwp",
        "outputId": "b2adf359-8425-49de-a763-49e58b7ede4c"
      },
      "execution_count": null,
      "outputs": [
        {
          "output_type": "stream",
          "name": "stdout",
          "text": [
            "[120 180 150  80  70]\n"
          ]
        }
      ]
    },
    {
      "cell_type": "code",
      "source": [
        "sum_col =row1+row2+row3+row4+row5\n",
        "sum_col"
      ],
      "metadata": {
        "colab": {
          "base_uri": "https://localhost:8080/"
        },
        "id": "lQAcH7kMfIjE",
        "outputId": "6168e334-bb3a-42b3-b52c-4af5e2830767"
      },
      "execution_count": null,
      "outputs": [
        {
          "output_type": "execute_result",
          "data": {
            "text/plain": [
              "array([240, 360])"
            ]
          },
          "metadata": {},
          "execution_count": 21
        }
      ]
    },
    {
      "cell_type": "code",
      "source": [
        "exp =[]\n",
        "for i in sum_row:\n",
        "    for j in sum_col:\n",
        "        value=(i*j)/total\n",
        "        exp.append(value)"
      ],
      "metadata": {
        "id": "1cnYW93JfkCQ"
      },
      "execution_count": null,
      "outputs": []
    },
    {
      "cell_type": "code",
      "source": [
        "exp"
      ],
      "metadata": {
        "colab": {
          "base_uri": "https://localhost:8080/"
        },
        "id": "TkK6UdKffsK1",
        "outputId": "0a541280-9112-4d58-e177-3c82c1ebfc89"
      },
      "execution_count": null,
      "outputs": [
        {
          "output_type": "execute_result",
          "data": {
            "text/plain": [
              "[48.0, 72.0, 72.0, 108.0, 60.0, 90.0, 32.0, 48.0, 28.0, 42.0]"
            ]
          },
          "metadata": {},
          "execution_count": 23
        }
      ]
    },
    {
      "cell_type": "code",
      "source": [
        "obj=np.array([50,70,80,100,60,90,30,50,20,50])\n",
        "obj"
      ],
      "metadata": {
        "colab": {
          "base_uri": "https://localhost:8080/"
        },
        "id": "K0C3HI4pf4E3",
        "outputId": "7fc5628d-2054-46ef-aeae-73a64f6d7fa7"
      },
      "execution_count": null,
      "outputs": [
        {
          "output_type": "execute_result",
          "data": {
            "text/plain": [
              "array([ 50,  70,  80, 100,  60,  90,  30,  50,  20,  50])"
            ]
          },
          "metadata": {},
          "execution_count": 25
        }
      ]
    },
    {
      "cell_type": "code",
      "source": [
        "len(exp)"
      ],
      "metadata": {
        "colab": {
          "base_uri": "https://localhost:8080/"
        },
        "id": "PS9W3CBwfwHI",
        "outputId": "2238c081-3834-4376-9689-c4deadf05058"
      },
      "execution_count": null,
      "outputs": [
        {
          "output_type": "execute_result",
          "data": {
            "text/plain": [
              "10"
            ]
          },
          "metadata": {},
          "execution_count": 24
        }
      ]
    },
    {
      "cell_type": "code",
      "source": [
        "len(obj)"
      ],
      "metadata": {
        "colab": {
          "base_uri": "https://localhost:8080/"
        },
        "id": "tYuCt3eifygA",
        "outputId": "3daeb253-aa00-44c9-ff01-319bbcc02743"
      },
      "execution_count": null,
      "outputs": [
        {
          "output_type": "execute_result",
          "data": {
            "text/plain": [
              "10"
            ]
          },
          "metadata": {},
          "execution_count": 26
        }
      ]
    },
    {
      "cell_type": "code",
      "source": [
        "chi_cal = np.sum(np.square(obj-exp)/exp)\n",
        "chi_cal"
      ],
      "metadata": {
        "colab": {
          "base_uri": "https://localhost:8080/"
        },
        "id": "-c15_gDhgbu9",
        "outputId": "8ea1f849-9fdd-4ea6-e58c-2f64a4753e85"
      },
      "execution_count": null,
      "outputs": [
        {
          "output_type": "execute_result",
          "data": {
            "text/plain": [
              "5.638227513227513"
            ]
          },
          "metadata": {},
          "execution_count": 27
        }
      ]
    },
    {
      "cell_type": "markdown",
      "source": [
        "**3. Determine the Critical Value:**\n",
        "\n",
        "degree of freedom (df) = (Number of Rows - 1) * (Number of Columns - 1)\n",
        "\n",
        "In this case, df = (5-1) * (2-1) = 4.\n",
        "\n",
        "significance level (α) of 0.05 and 4 degrees of freedom.\n",
        "critical value in a Chi-Square distribution table value is 9.488."
      ],
      "metadata": {
        "id": "tdJRSf3mlA2g"
      }
    },
    {
      "cell_type": "code",
      "source": [
        "chi_tab=stats.chi2.ppf(1-0.05,df=4)\n",
        "chi_tab"
      ],
      "metadata": {
        "colab": {
          "base_uri": "https://localhost:8080/"
        },
        "id": "IDqFv0Qrggqm",
        "outputId": "56c0ffc0-16e7-472f-a28a-33c647d22e2c"
      },
      "execution_count": null,
      "outputs": [
        {
          "output_type": "execute_result",
          "data": {
            "text/plain": [
              "9.487729036781154"
            ]
          },
          "metadata": {},
          "execution_count": 28
        }
      ]
    },
    {
      "cell_type": "markdown",
      "source": [
        "**4. Make a Decision**\n",
        "\n",
        "Compare the Chi-Square statistic(chi_calc) with the critical value(chi_table):\n",
        "\n",
        "If 𝜒2 > Critical Value, reject the null hypothesis.\n",
        "\n",
        "If 𝜒2 ≤ Critical Value, fail to reject the null hypothesis."
      ],
      "metadata": {
        "id": "qcmDBIDRgzde"
      }
    },
    {
      "cell_type": "code",
      "source": [
        "if chi_cal < chi_tab: #5.638 < 9.487\n",
        "    print(\"Accept H0\")\n",
        "    print(\"There is no assocation\")\n",
        "else:\n",
        "  print(\"Accept H1\")\n",
        "  print(\"There is an assocation\")"
      ],
      "metadata": {
        "colab": {
          "base_uri": "https://localhost:8080/"
        },
        "id": "MFIFgNwdg0Eq",
        "outputId": "9ab3132e-f9d4-43c2-98ec-c797838e6200"
      },
      "execution_count": null,
      "outputs": [
        {
          "output_type": "stream",
          "name": "stdout",
          "text": [
            "Accept H0\n",
            "There is no assocation\n"
          ]
        }
      ]
    }
  ]
}